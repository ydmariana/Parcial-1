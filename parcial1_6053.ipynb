{
 "cells": [
  {
   "cell_type": "code",
   "execution_count": 1,
   "metadata": {},
   "outputs": [
    {
     "name": "stdout",
     "output_type": "stream",
     "text": [
      "URL encriptada: ivwqu=01jjvkvd1dqp0oduv}btdug645\n",
      "URL desencriptada: https://github.com/mattzarate333\n"
     ]
    }
   ],
   "source": [
    "edad_profesor = 33  \n",
    "\n",
    "def encriptar_url(url):\n",
    "    # Función de encriptación\n",
    "    encriptada = \"\"\n",
    "    for i in range(len(url)):\n",
    "        # Sumamos al código ASCII del carácter actual el valor del índice modificado por 3 más 1\n",
    "        encriptada += chr(ord(url[i]) + (i % 3) + 1)\n",
    "    \n",
    "    # URL encriptada para ser desencriptada después\n",
    "    print(f\"URL encriptada: {encriptada}\")\n",
    "    return encriptada\n",
    "\n",
    "def desencriptar_url(url_encriptada, clave):\n",
    "    # Verificar si la clave es igual a la edad del profesor\n",
    "    if clave != edad_profesor:\n",
    "        print(\"Clave incorrecta. No se puede desencriptar.\")\n",
    "        return None\n",
    "    \n",
    "    # Si la clave es correcta, se desencripta\n",
    "    desencriptada = \"\"\n",
    "    for i in range(len(url_encriptada)):\n",
    "        # Restamos al código ASCII del carácter encriptado el valor del índice modificado por 3 más 1\n",
    "        desencriptada += chr(ord(url_encriptada[i]) - (i % 3) - 1)\n",
    "    \n",
    "    return desencriptada\n",
    "\n",
    "# URL\n",
    "url_original = \"https://github.com/mattzarate333\"\n",
    "url_encriptada = encriptar_url(url_original)\n",
    "\n",
    "# Para desencriptar el mensaje, el usuario debe introducir la edad del profesor como clave:\n",
    "clave = int(input(\"Introduce la clave para desencriptar el mensaje: \"))\n",
    "url_desencriptada = desencriptar_url(url_encriptada, clave)\n",
    "\n",
    "if url_desencriptada:\n",
    "    print(f\"URL desencriptada: {url_desencriptada}\")\n",
    "\n",
    "# Comentario sobre el proceso de desciframiento:\n",
    "# 1. Se encriptó la URL original sumando al código ASCII de cada carácter un valor dependiente del índice del carácter.\n",
    "# 2. Para desencriptar, se necesitaba la clave correcta, que es la edad del profesor.\n",
    "# 3. Se comparó la clave ingresada con la edad del profesor para asegurar la validez.\n",
    "# 4. La desencriptación se logró restando el mismo valor que se sumó durante la encriptación."
   ]
  }
 ],
 "metadata": {
  "kernelspec": {
   "display_name": "Python 3",
   "language": "python",
   "name": "python3"
  },
  "language_info": {
   "codemirror_mode": {
    "name": "ipython",
    "version": 3
   },
   "file_extension": ".py",
   "mimetype": "text/x-python",
   "name": "python",
   "nbconvert_exporter": "python",
   "pygments_lexer": "ipython3",
   "version": "3.12.2"
  }
 },
 "nbformat": 4,
 "nbformat_minor": 2
}
